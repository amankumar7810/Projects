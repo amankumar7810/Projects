{
 "cells": [
  {
   "cell_type": "code",
   "execution_count": 5,
   "id": "563ac45e",
   "metadata": {},
   "outputs": [
    {
     "name": "stdout",
     "output_type": "stream",
     "text": [
      "Answer = An escape character is a backslash \\ followed by the character you want to insert. It is used in representing\n",
      "        certain whitespace characters: \"\\t\" is a tab, \"\\n\" is a newline, and \"\\r\" is a carriage return.\n"
     ]
    }
   ],
   "source": [
    "#1. What are escape characters, and how do you use them?\n",
    "print(\"\"\"Answer = An escape character is a backslash \\ followed by the character you want to insert. It is used in representing\n",
    "        certain whitespace characters: \"\\\\t\" is a tab, \"\\\\n\" is a newline, and \"\\\\r\" is a carriage return.\"\"\")"
   ]
  },
  {
   "cell_type": "code",
   "execution_count": 9,
   "id": "f8ab7974",
   "metadata": {},
   "outputs": [
    {
     "name": "stdout",
     "output_type": "stream",
     "text": [
      "Answer =  \"\\t\" is a tab, \"\\n\" is a newline.\n"
     ]
    }
   ],
   "source": [
    "#2. What do the escape characters n and t stand for?\n",
    "print(\"\"\"Answer =  \"\\\\t\" is a tab, \"\\\\n\" is a newline.\"\"\")"
   ]
  },
  {
   "cell_type": "code",
   "execution_count": 13,
   "id": "9bfd1cf7",
   "metadata": {},
   "outputs": [
    {
     "name": "stdout",
     "output_type": "stream",
     "text": [
      "Answer = Its a back slash \\ in a line\n"
     ]
    }
   ],
   "source": [
    "#3. What is the way to include backslash characters in a string?\n",
    "print('Answer = Its a back slash \\\\ in a line')"
   ]
  },
  {
   "cell_type": "code",
   "execution_count": 14,
   "id": "1b86bf32",
   "metadata": {},
   "outputs": [
    {
     "name": "stdout",
     "output_type": "stream",
     "text": [
      "Answer = The single quote in Howl's is fine because you've used double quotes to mark the beginning and end of the string.\n"
     ]
    }
   ],
   "source": [
    "#4. The string \"Howl's Moving Castle\" is a correct value. Why isn't the single quote character in the world Howl's not escaped \n",
    "#a problem?\n",
    "print(\"Answer = The single quote in Howl's is fine because you've used double quotes to mark the beginning and end of the string.\")"
   ]
  },
  {
   "cell_type": "code",
   "execution_count": 18,
   "id": "3aea6ab3",
   "metadata": {},
   "outputs": [
    {
     "name": "stdout",
     "output_type": "stream",
     "text": [
      "printing something in new line\n",
      "newline\n"
     ]
    }
   ],
   "source": [
    "#5. How do you write a string of newlines if you don't want to use the n character?\n",
    "print(\"printing something in new line\")\n",
    "print(\"newline\")"
   ]
  },
  {
   "cell_type": "code",
   "execution_count": 46,
   "id": "ebd6b8e4",
   "metadata": {},
   "outputs": [
    {
     "name": "stdout",
     "output_type": "stream",
     "text": [
      "Answer\n",
      "(1) e \n",
      "\n",
      "(2) Hello \n",
      "\n",
      "(3) Hello \n",
      "\n",
      "(4) lo, world!\n"
     ]
    }
   ],
   "source": [
    "#6. What are the values of the given expressions?\n",
    "#'Hello, world!'[1]\n",
    "#'Hello, world!'[0:5]\n",
    "#'Hello, world!'[:5]\n",
    "#'Hello, world!'[3:]\n",
    "\n",
    "print(\"Answer\")\n",
    "print(\"(1)\",'Hello, world!'[1],\"\\n\")\n",
    "print(\"(2)\",'Hello, world!'[0:5],\"\\n\")\n",
    "print(\"(3)\",'Hello, world!'[:5],\"\\n\")\n",
    "print(\"(4)\",'Hello, world!'[3:])"
   ]
  },
  {
   "cell_type": "code",
   "execution_count": 45,
   "id": "d83574f8",
   "metadata": {},
   "outputs": [
    {
     "name": "stdout",
     "output_type": "stream",
     "text": [
      "Answer\n",
      "(1) HELLO\n",
      "\n",
      "\n",
      "(2) True\n",
      "\n",
      "\n",
      "(3) hello\n"
     ]
    }
   ],
   "source": [
    "#7. What are the values of the following expressions?\n",
    "#'Hello'.upper()\n",
    "#'Hello'.upper().isupper()\n",
    "#'Hello'.upper().lower()\n",
    "\n",
    "print(\"Answer\")\n",
    "print(\"(1)\",'Hello'.upper(),)\n",
    "print(\"\\n\")\n",
    "print(\"(2)\",'Hello'.upper().isupper())\n",
    "print(\"\\n\")\n",
    "print(\"(3)\",'Hello'.upper().lower())"
   ]
  },
  {
   "cell_type": "code",
   "execution_count": 47,
   "id": "d7a33849",
   "metadata": {},
   "outputs": [
    {
     "name": "stdout",
     "output_type": "stream",
     "text": [
      "['Remember,', 'remember,', 'the', 'fifth', 'of', 'July.']\n",
      "There-can-only-one.\n"
     ]
    }
   ],
   "source": [
    "#8. What are the values of the following expressions?\n",
    "#'Remember, remember, the fifth of July.'.split()\n",
    "#'-'.join('There can only one.'.split())\n",
    "\n",
    "print('Remember, remember, the fifth of July.'.split())\n",
    "print('-'.join('There can only one.'.split()))"
   ]
  },
  {
   "cell_type": "code",
   "execution_count": 63,
   "id": "ee8c124b",
   "metadata": {},
   "outputs": [
    {
     "name": "stdout",
     "output_type": "stream",
     "text": [
      "left justified\n",
      "Aman******\n",
      "\n",
      "right justified\n"
     ]
    },
    {
     "data": {
      "text/plain": [
       "'*****My name is'"
      ]
     },
     "execution_count": 63,
     "metadata": {},
     "output_type": "execute_result"
    }
   ],
   "source": [
    "#9. What are the methods for right-justifying, left-justifying, and centering a string?\n",
    "print(\"left justified\")\n",
    "st =\"Aman\"\n",
    "print(st.ljust(10,\"*\"))\n",
    "\n",
    "print(\"\\nright justified\")\n",
    "str =\"My name is\"\n",
    "str.rjust(15,'*')\n"
   ]
  },
  {
   "cell_type": "code",
   "execution_count": 85,
   "id": "01bba4d7",
   "metadata": {},
   "outputs": [
    {
     "data": {
      "text/plain": [
       "'Aman     '"
      ]
     },
     "execution_count": 85,
     "metadata": {},
     "output_type": "execute_result"
    }
   ],
   "source": [
    "#10. What is the best way to remove whitespace characters from the start or end?\n",
    "\n",
    "st = \"      Aman     \"\n",
    "st.lstrip()"
   ]
  },
  {
   "cell_type": "code",
   "execution_count": 84,
   "id": "b548571e",
   "metadata": {},
   "outputs": [
    {
     "data": {
      "text/plain": [
       "'     kumar'"
      ]
     },
     "execution_count": 84,
     "metadata": {},
     "output_type": "execute_result"
    }
   ],
   "source": [
    "st=\"     kumar      \"\n",
    "st.rstrip()"
   ]
  },
  {
   "cell_type": "code",
   "execution_count": null,
   "id": "bb726e49",
   "metadata": {},
   "outputs": [],
   "source": []
  },
  {
   "cell_type": "code",
   "execution_count": null,
   "id": "feac5437",
   "metadata": {},
   "outputs": [],
   "source": []
  }
 ],
 "metadata": {
  "kernelspec": {
   "display_name": "Python 3 (ipykernel)",
   "language": "python",
   "name": "python3"
  },
  "language_info": {
   "codemirror_mode": {
    "name": "ipython",
    "version": 3
   },
   "file_extension": ".py",
   "mimetype": "text/x-python",
   "name": "python",
   "nbconvert_exporter": "python",
   "pygments_lexer": "ipython3",
   "version": "3.9.12"
  }
 },
 "nbformat": 4,
 "nbformat_minor": 5
}
