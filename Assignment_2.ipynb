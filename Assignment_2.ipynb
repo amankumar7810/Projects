{
 "cells": [
  {
   "cell_type": "code",
   "execution_count": 52,
   "id": "f8b29788",
   "metadata": {},
   "outputs": [
    {
     "name": "stdout",
     "output_type": "stream",
     "text": [
      "Answer = A variable of the primitive data type boolean can have two values: true and false. \n",
      "The result of a Boolean expression is either true or false.\n"
     ]
    }
   ],
   "source": [
    "#1.What are the two values of the Boolean data type? How do you write them?\n",
    " \n",
    "print(\"\"\"Answer = A variable of the primitive data type boolean can have two values: true and false. \n",
    "The result of a Boolean expression is either true or false.\"\"\")"
   ]
  },
  {
   "cell_type": "code",
   "execution_count": 53,
   "id": "ed5d5920",
   "metadata": {},
   "outputs": [
    {
     "name": "stdout",
     "output_type": "stream",
     "text": [
      "Answer = The three basic boolean operators are: AND, OR, and NOT.\n"
     ]
    }
   ],
   "source": [
    "#2. What are the three different types of Boolean operators?\n",
    "\n",
    "print(\"Answer = The three basic boolean operators are: AND, OR, and NOT.\")"
   ]
  },
  {
   "cell_type": "code",
   "execution_count": 49,
   "id": "fb26408e",
   "metadata": {},
   "outputs": [
    {
     "name": "stdout",
     "output_type": "stream",
     "text": [
      "Answer = True and True is True.\n",
      "       \n",
      "True and False is False.\n",
      "\n",
      "False and True is False.\n",
      "\n",
      "False and False is False.\n",
      "\n",
      "True or True is True.\n",
      "\n",
      "True or False is True.\n",
      "\n",
      "False or True is True.\n",
      "\n",
      "False or False is False.\n",
      "\n",
      "not True is False.\n",
      "\n",
      "not False is True.\n"
     ]
    }
   ],
   "source": [
    "#3. Make a list of each Boolean operator truth tables (i.e. every possible combination of Boolean\n",
    "#values for the operator and what it evaluate ).\n",
    " \n",
    "print(\"\"\"Answer = True and True is True.\n",
    "\n",
    "       \n",
    "True and False is False.\n",
    "\n",
    "False and True is False.\n",
    "\n",
    "False and False is False.\n",
    "\n",
    "True or True is True.\n",
    "\n",
    "True or False is True.\n",
    "\n",
    "False or True is True.\n",
    "\n",
    "False or False is False.\n",
    "\n",
    "not True is False.\n",
    "\n",
    "not False is True.\"\"\")\n"
   ]
  },
  {
   "cell_type": "code",
   "execution_count": 85,
   "id": "719a6acd",
   "metadata": {},
   "outputs": [
    {
     "name": "stdout",
     "output_type": "stream",
     "text": [
      "Answer = (5>4) and (3==5) = False\n",
      "         not(5>4) = False\n",
      "         (5>4)or(3==5) = True\n",
      "         not((5>4)or(3==5)) = False\n",
      "         (True and True)and(True==False) = False\n",
      "         (not False)or(not True) = True\n"
     ]
    }
   ],
   "source": [
    "#4. What are the values of the following expressions?\n",
    "print(\"Answer = (5>4) and (3==5) =\",(5>4) and (3==5)) \n",
    "print(\"         not(5>4) =\",not(5>4))\n",
    "print(\"         (5>4)or(3==5) =\",(5>4)or(3==5))\n",
    "print(\"         not((5>4)or(3==5)) =\",not((5>4)or(3==5)))\n",
    "print(\"         (True and True)and(True==False) =\",(True and True) and (True==False))\n",
    "print(\"         (not False)or(not True) =\",(not False)or(not True))"
   ]
  },
  {
   "cell_type": "code",
   "execution_count": 87,
   "id": "4d05c38b",
   "metadata": {},
   "outputs": [
    {
     "name": "stdout",
     "output_type": "stream",
     "text": [
      "Answer =  less than ( < ), less than or equal to ( <= ), greater than ( > ), greater than or equal to ( >= ), equal to ( == ),\n",
      "and not equal to ( != ).\n"
     ]
    }
   ],
   "source": [
    "#5. What are the six comparison operators?\n",
    "\n",
    "print(\"\"\"Answer =  less than ( < ), less than or equal to ( <= ), greater than ( > ), greater than or equal to ( >= ), equal to ( == ),\n",
    "and not equal to ( != ).\"\"\")"
   ]
  },
  {
   "cell_type": "code",
   "execution_count": 20,
   "id": "40eb2f5a",
   "metadata": {},
   "outputs": [
    {
     "name": "stdout",
     "output_type": "stream",
     "text": [
      "The “=” is an assignment operator is used to assign the value on the right to the variable on the left.The '==' operator checks\n",
      "whether the two givenoperands are equal or not. If so, it returns true\n",
      "False\n"
     ]
    }
   ],
   "source": [
    "#6. How do you tell the difference between the equal to and assignment operators?Describe a\n",
    "#condition and when you would use one.\n",
    "\n",
    "Answer = print (\"\"\"The “=” is an assignment operator is used to assign the value on the right to the variable on the left.The '==' operator checks\n",
    "whether the two givenoperands are equal or not. If so, it returns true\"\"\")\n",
    "c=3\n",
    "if(2==3):\n",
    " print(\"true\")\n",
    "else:\n",
    " print(\"False\")"
   ]
  },
  {
   "cell_type": "code",
   "execution_count": 29,
   "id": "2d3a9fdd",
   "metadata": {},
   "outputs": [
    {
     "name": "stdout",
     "output_type": "stream",
     "text": [
      "ham\n",
      "spam\n",
      "spam\n"
     ]
    }
   ],
   "source": [
    "#7. Identify the three blocks in this code:\n",
    "spam = 0\n",
    "if spam == 10:  #Blocks 1---\n",
    "    print(\"eggs\")\n",
    "if spam >5:#---Blocks 2---\n",
    "    print(\"bacon\")\n",
    "else:#----Blocks 3---\n",
    "    print(\"ham\")\n",
    "    print(\"spam\")\n",
    "    print(\"spam\")"
   ]
  },
  {
   "cell_type": "code",
   "execution_count": 34,
   "id": "0ea82926",
   "metadata": {},
   "outputs": [
    {
     "name": "stdout",
     "output_type": "stream",
     "text": [
      "Enter the number = 4\n",
      "Greetings!\n"
     ]
    }
   ],
   "source": [
    "#8. Write code that prints Hello if 1 is stored in spam, prints Howdy if 2 is stored in spam, and prints\n",
    "#Greetings! if anything else is stored in spam.\n",
    "\n",
    "spam = int(input(\"Enter the number = \"))\n",
    "if spam == 1:\n",
    "    print(\"Hello\")\n",
    "elif spam == 2 :\n",
    "    print(\"Howdy\")\n",
    "else:\n",
    "    print(\"Greetings!\")"
   ]
  },
  {
   "cell_type": "code",
   "execution_count": 88,
   "id": "027df3c6",
   "metadata": {},
   "outputs": [
    {
     "name": "stdout",
     "output_type": "stream",
     "text": [
      "Answer = If program is stuck in endless loop we will press ctrl+c.\n"
     ]
    }
   ],
   "source": [
    "#9.If your programme is stuck in an endless loop, what keys you’ll press?\n",
    "print(\"Answer = If program is stuck in endless loop we will press ctrl+c.\")"
   ]
  },
  {
   "cell_type": "code",
   "execution_count": 90,
   "id": "c646acb6",
   "metadata": {},
   "outputs": [
    {
     "name": "stdout",
     "output_type": "stream",
     "text": [
      "Answer= Break statment It is used to stop the execution of the loop at a specific condition.\n",
      "continue statment It is used to skip a particular iteration of the loop\n"
     ]
    }
   ],
   "source": [
    "#10. How can you tell the difference between break and continue?\n",
    "print(\"\"\"Answer= Break statment It is used to stop the execution of the loop at a specific condition.\n",
    "continue statment It is used to skip a particular iteration of the loop\"\"\")"
   ]
  },
  {
   "cell_type": "code",
   "execution_count": 38,
   "id": "8722e421",
   "metadata": {},
   "outputs": [
    {
     "name": "stdout",
     "output_type": "stream",
     "text": [
      "Answer =From the above output we can conclude that they all do the same thing. The range(10) call ranges from 0 up to (but not including) 10, range(0, 10) tells the loop to start at 0, and range(0, 10, 1) tells the loop to increase the variable by 1 on each iteration.\n"
     ]
    }
   ],
   "source": [
    "#11. In a for loop, what is the difference between range(10), range(0, 10), and range(0, 10, 1)?\n",
    "\n",
    "print(\"Answer = From the above output we can conclude that they all do the same thing. The range(10) call ranges from 0 up to (but not including) 10, range(0, 10) tells the loop to start at 0, and range(0, 10, 1) tells the loop to increase the variable by 1 on each iteration.\")"
   ]
  },
  {
   "cell_type": "code",
   "execution_count": 46,
   "id": "618916e8",
   "metadata": {},
   "outputs": [
    {
     "name": "stdout",
     "output_type": "stream",
     "text": [
      "For Loop\n",
      "1\n",
      "2\n",
      "3\n",
      "4\n",
      "5\n",
      "6\n",
      "7\n",
      "8\n",
      "9\n",
      "10\n",
      "while loop\n",
      "0\n",
      "1\n",
      "2\n",
      "3\n",
      "4\n",
      "5\n",
      "6\n",
      "7\n",
      "8\n",
      "9\n",
      "10\n"
     ]
    }
   ],
   "source": [
    "#12. Write a short program that prints the numbers 1 to 10 using a for loop. Then write an equivalent program that prints the numbers\n",
    "#1 to 10 using a while loop.\n",
    "\n",
    "#Use of For Loop\n",
    "print(\"For Loop\")\n",
    "for i in range (1,11):\n",
    "    print(i)\n",
    "#Use of while loop\n",
    "print(\"while loop\")\n",
    "a=0\n",
    "while a<=10:\n",
    "    print(a)\n",
    "    a=a+1\n",
    "    \n"
   ]
  },
  {
   "cell_type": "code",
   "execution_count": 91,
   "id": "6cb9a2d0",
   "metadata": {},
   "outputs": [
    {
     "name": "stdout",
     "output_type": "stream",
     "text": [
      "Answer = This function can be called with spam.bacon().\n"
     ]
    }
   ],
   "source": [
    "#13. If you had a function named bacon() inside a module named spam, how would you call it after\n",
    "#importing spam?\n",
    "print(\"Answer = This function can be called with spam.bacon().\")"
   ]
  },
  {
   "cell_type": "code",
   "execution_count": null,
   "id": "965d4242",
   "metadata": {},
   "outputs": [],
   "source": []
  }
 ],
 "metadata": {
  "kernelspec": {
   "display_name": "Python 3 (ipykernel)",
   "language": "python",
   "name": "python3"
  },
  "language_info": {
   "codemirror_mode": {
    "name": "ipython",
    "version": 3
   },
   "file_extension": ".py",
   "mimetype": "text/x-python",
   "name": "python",
   "nbconvert_exporter": "python",
   "pygments_lexer": "ipython3",
   "version": "3.9.12"
  }
 },
 "nbformat": 4,
 "nbformat_minor": 5
}
