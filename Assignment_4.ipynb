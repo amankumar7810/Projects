{
 "cells": [
  {
   "cell_type": "code",
   "execution_count": 44,
   "id": "84d2f6d4",
   "metadata": {},
   "outputs": [
    {
     "name": "stdout",
     "output_type": "stream",
     "text": [
      "Answer = The empty list value, which is a list value that contains no items. \n"
     ]
    }
   ],
   "source": [
    "#1. What exactly is []?\n",
    "print(\"Answer = The empty list value, which is a list value that contains no items. \")"
   ]
  },
  {
   "cell_type": "code",
   "execution_count": 42,
   "id": "07be234d",
   "metadata": {},
   "outputs": [
    {
     "name": "stdout",
     "output_type": "stream",
     "text": [
      "[2, 4, 'hello', 8, 10]\n"
     ]
    }
   ],
   "source": [
    "#2. In a list of values stored in a variable called spam, how would you assign the value 'hello' as the\n",
    "#third value? (Assume[2,4,6,8,10] are in spam.)\n",
    "spam = [2,4,6,8,10] \n",
    "spam[2]='hello'\n",
    "print(spam)"
   ]
  },
  {
   "cell_type": "markdown",
   "id": "6c4ac52c",
   "metadata": {},
   "source": [
    "Let's pretend the spam includes the list ['a',' b','c', 'd'] for the next three queries.\n"
   ]
  },
  {
   "cell_type": "code",
   "execution_count": 40,
   "id": "09b4c97d",
   "metadata": {},
   "outputs": [
    {
     "data": {
      "text/plain": [
       "'d'"
      ]
     },
     "execution_count": 40,
     "metadata": {},
     "output_type": "execute_result"
    }
   ],
   "source": [
    "#3. What is the value of spam[int(int('3'* 2) / 11)]?\n",
    "spam=['a',' b','c', 'd'] \n",
    "spam[int(int('3'* 2) / 11)] # spam[int(33/11)] = spam[3]"
   ]
  },
  {
   "cell_type": "code",
   "execution_count": 39,
   "id": "505883ca",
   "metadata": {},
   "outputs": [
    {
     "data": {
      "text/plain": [
       "'d'"
      ]
     },
     "execution_count": 39,
     "metadata": {},
     "output_type": "execute_result"
    }
   ],
   "source": [
    "#4. What is the value of spam[-1]?\n",
    "spam=['a',' b','c', 'd']\n",
    "spam[-1]"
   ]
  },
  {
   "cell_type": "code",
   "execution_count": 38,
   "id": "6ffee203",
   "metadata": {},
   "outputs": [
    {
     "data": {
      "text/plain": [
       "['a', ' b']"
      ]
     },
     "execution_count": 38,
     "metadata": {},
     "output_type": "execute_result"
    }
   ],
   "source": [
    "#5. What is the value of spam[:2]?\n",
    "spam=['a',' b','c', 'd']\n",
    "spam[:2]"
   ]
  },
  {
   "cell_type": "markdown",
   "id": "72da9412",
   "metadata": {},
   "source": [
    "Let's pretend bacon has the list [3.14,'cat',11,'cat', True] for the next three questions.\n"
   ]
  },
  {
   "cell_type": "code",
   "execution_count": 35,
   "id": "bdc0d303",
   "metadata": {},
   "outputs": [
    {
     "data": {
      "text/plain": [
       "1"
      ]
     },
     "execution_count": 35,
     "metadata": {},
     "output_type": "execute_result"
    }
   ],
   "source": [
    "#6. What is the value of bacon.index('cat')?\n",
    "bacon= [3.14,'cat',11, 'cat', True]\n",
    "bacon.index('cat')# it returns the index of first occurrence of 'cat'"
   ]
  },
  {
   "cell_type": "code",
   "execution_count": 26,
   "id": "56dec813",
   "metadata": {},
   "outputs": [
    {
     "name": "stdout",
     "output_type": "stream",
     "text": [
      "[3.14, 'cat', 11, 'cat', True, 99]\n"
     ]
    }
   ],
   "source": [
    "#7. How does bacon.append(99) change the look of the list value in bacon?\n",
    "bacon= [3.14,'cat',11, 'cat', True]\n",
    "bacon.append(99)# append adds the item at the end of the list\n",
    "print(bacon)"
   ]
  },
  {
   "cell_type": "code",
   "execution_count": 27,
   "id": "16948657",
   "metadata": {},
   "outputs": [
    {
     "data": {
      "text/plain": [
       "[3.14, 11, 'cat', True]"
      ]
     },
     "execution_count": 27,
     "metadata": {},
     "output_type": "execute_result"
    }
   ],
   "source": [
    "#8. How does bacon.remove('cat') change the look of the list in bacon?\n",
    "bacon= [3.14,'cat',11, 'cat', True]\n",
    "bacon.remove('cat')# remove first occurrence of item\n",
    "bacon"
   ]
  },
  {
   "cell_type": "code",
   "execution_count": 28,
   "id": "063a2c80",
   "metadata": {},
   "outputs": [
    {
     "name": "stdout",
     "output_type": "stream",
     "text": [
      "Answer = The operator for list concatenation is +, while the operator for replication is *.\n"
     ]
    }
   ],
   "source": [
    "#9. What are the list concatenation and list replication operators?\n",
    "\n",
    "print(\"Answer = The operator for list concatenation is +, while the operator for replication is *.\")"
   ]
  },
  {
   "cell_type": "code",
   "execution_count": 29,
   "id": "59bdca69",
   "metadata": {},
   "outputs": [
    {
     "name": "stdout",
     "output_type": "stream",
     "text": [
      "Answer = The difference between the list methods append() and insert() are\n",
      "          - append() where we can add the element only at end of the list \n",
      "          - insert() you can create a new entry exactly in the position you want.\n"
     ]
    }
   ],
   "source": [
    "#10. What is difference between the list methods append() and insert()?\n",
    "print(\"\"\"Answer = The difference between the list methods append() and insert() are\n",
    "          - append() where we can add the element only at end of the list \n",
    "          - insert() you can create a new entry exactly in the position you want.\"\"\")"
   ]
  },
  {
   "cell_type": "code",
   "execution_count": 30,
   "id": "c9872757",
   "metadata": {},
   "outputs": [
    {
     "name": "stdout",
     "output_type": "stream",
     "text": [
      "Answer = The methods are remove(), pop()\n"
     ]
    }
   ],
   "source": [
    "#11. What are the two methods for removing items from a list?\n",
    "\n",
    "print(\"Answer = The methods are remove(), pop()\")"
   ]
  },
  {
   "cell_type": "code",
   "execution_count": 31,
   "id": "c07f1f00",
   "metadata": {},
   "outputs": [
    {
     "name": "stdout",
     "output_type": "stream",
     "text": [
      "string= (1) The string's length is the number of characters in the string. \n",
      "        (2) The string is a sequence of characters between single or double quotes. \n",
      "        (3) You can access individual characters in a string items  using square-bracket indexing:\n",
      "        (4) For strings, we can either loop over characters in the string or indices (0 to len(S)-1).\n",
      "        \n",
      "list = (1) The list's length is the number of items in the list. \n",
      "       (2) The list is a sequence of items, where each item could be anything (an integer, a float, a string, etc)\n",
      "       (3) You can access individual characters in a list items, using square-bracket indexing:\n",
      "       (4) For lists, we can either loop over items in the list or indices.\n",
      "       \n"
     ]
    }
   ],
   "source": [
    "#12. Describe how list values and string values are identical.\n",
    "   \n",
    "print(\"\"\"string= (1) The string's length is the number of characters in the string. \n",
    "        (2) The string is a sequence of characters between single or double quotes. \n",
    "        (3) You can access individual characters in a string items  using square-bracket indexing:\n",
    "        (4) For strings, we can either loop over characters in the string or indices (0 to len(S)-1).\n",
    "        \n",
    "list = (1) The list's length is the number of items in the list. \n",
    "       (2) The list is a sequence of items, where each item could be anything (an integer, a float, a string, etc)\n",
    "       (3) You can access individual characters in a list items, using square-bracket indexing:\n",
    "       (4) For lists, we can either loop over items in the list or indices.\n",
    "       \"\"\")"
   ]
  },
  {
   "cell_type": "code",
   "execution_count": 32,
   "id": "51de3fa2",
   "metadata": {},
   "outputs": [
    {
     "name": "stdout",
     "output_type": "stream",
     "text": [
      "Answer = The tuples are immutable as opposed to lists which are mutable.Therefore, it is possible to change a list \n",
      "         but not a tuple.\n"
     ]
    }
   ],
   "source": [
    "#13. What's the difference between tuples and lists?\n",
    "print(\"\"\"Answer = The tuples are immutable as opposed to lists which are mutable.Therefore, it is possible to change a list \n",
    "         but not a tuple.\"\"\")"
   ]
  },
  {
   "cell_type": "code",
   "execution_count": 33,
   "id": "194576fb",
   "metadata": {},
   "outputs": [
    {
     "data": {
      "text/plain": [
       "(42,)"
      ]
     },
     "execution_count": 33,
     "metadata": {},
     "output_type": "execute_result"
    }
   ],
   "source": [
    "#14. How do you type a tuple value that only contains the integer 42?\n",
    "tupl=(42,)\n",
    "tupl"
   ]
  },
  {
   "cell_type": "code",
   "execution_count": 43,
   "id": "b70a48d0",
   "metadata": {},
   "outputs": [
    {
     "name": "stdout",
     "output_type": "stream",
     "text": [
      "List =\n",
      "[10, 20]\n",
      "------------------------------------------------------------\n",
      "tuple =\n",
      "(2, 3)\n"
     ]
    }
   ],
   "source": [
    "#15. How do you get a list value's tuple form? How do you get a tuple value's list form?\n",
    "print(\"List =\")\n",
    "l1= (10,20)\n",
    "l =list(l1)\n",
    "print(l)\n",
    "print(\"--\"*30)\n",
    "print(\"tuple =\")\n",
    "l2= (2,3)\n",
    "b = tuple(l2)\n",
    "print(b)"
   ]
  },
  {
   "cell_type": "code",
   "execution_count": 45,
   "id": "a7fffdb2",
   "metadata": {},
   "outputs": [
    {
     "name": "stdout",
     "output_type": "stream",
     "text": [
      "Answer = They contain references to list values\n"
     ]
    }
   ],
   "source": [
    "#16. Variables that \"contain\" list values are not necessarily lists themselves. Instead, what do they contain?\n",
    "print(\"Answer = They contain references to list values\")"
   ]
  },
  {
   "cell_type": "code",
   "execution_count": null,
   "id": "e149a117",
   "metadata": {},
   "outputs": [],
   "source": [
    "#17. How do you distinguish between copy.copy() and copy.deepcopy()?\n",
    "print(\"Answer\")"
   ]
  }
 ],
 "metadata": {
  "kernelspec": {
   "display_name": "Python 3 (ipykernel)",
   "language": "python",
   "name": "python3"
  },
  "language_info": {
   "codemirror_mode": {
    "name": "ipython",
    "version": 3
   },
   "file_extension": ".py",
   "mimetype": "text/x-python",
   "name": "python",
   "nbconvert_exporter": "python",
   "pygments_lexer": "ipython3",
   "version": "3.9.12"
  }
 },
 "nbformat": 4,
 "nbformat_minor": 5
}
